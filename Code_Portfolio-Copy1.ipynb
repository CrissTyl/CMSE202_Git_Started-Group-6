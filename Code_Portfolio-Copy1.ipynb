{
 "cells": [
  {
   "cell_type": "markdown",
   "metadata": {},
   "source": [
    "# Code Portfolio for Xander Fetterman"
   ]
  },
  {
   "cell_type": "markdown",
   "metadata": {},
   "source": [
    "## Import these at beginning of any code:"
   ]
  },
  {
   "cell_type": "code",
   "execution_count": null,
   "metadata": {},
   "outputs": [],
   "source": [
    "import matplotlib.pyplot as plt\n",
    "%matplotlib inline\n",
    "import numpy as np\n",
    "import pandas as pd\n",
    "import seaborn as sns\n",
    "from scipy.integrate import solve_ivp\n",
    "from scipy.optimize import curve_fit\n",
    "#from mpl_toolkits.mplot3d import Axes3D             ~~to be added later~~"
   ]
  },
  {
   "cell_type": "markdown",
   "metadata": {},
   "source": [
    "# 1) Making a 'for' loop\n",
    "#### Feb 25 2021\n",
    "A for loop is used to iterate through a list or an array a specific number of times. Some examples include:\n",
    "* for x in list_a:\n",
    "* for x in range(len(list_a)):\n",
    "* for x < list_a:\n",
    "* for x > list_a:\n",
    "* for x == list_a:\n",
    "\n",
    "These are then followed by a command that tells what to do ONLY if the statement is valid/true:\n",
    "* ... print(x)\n",
    "* ... x = x + 5\n",
    "* ... do_function(x):\n",
    "\n",
    "When I use this code, I need to change:\n",
    "* `list_of_values` to be a list/array with values\n",
    "* `value1,value2...` to values in a list if being set manually\n",
    "* `values` to any indexing name I choose\n",
    "* and the output statement"
   ]
  },
  {
   "cell_type": "code",
   "execution_count": null,
   "metadata": {},
   "outputs": [],
   "source": [
    "list_of_values = [value1,value2,value3...]\n",
    "\n",
    "for values in list_of_values:\n",
    "    print(values/2)"
   ]
  },
  {
   "cell_type": "markdown",
   "metadata": {},
   "source": [
    "# 2) Making a 'while' loop\n",
    "#### Feb 25 2021\n",
    "A while loop is used to iterate through a list or an array if the number of times is not specified. This can be useful if values needs to be iterated through only as long as a statement is true. Examples include:\n",
    "- while x < 10:\n",
    "- while x < len(list_a):\n",
    "- while x >= 0:\n",
    "\n",
    "Statements that follow are intructions for what is to be carried out while the statement is true.\n",
    "\n",
    "When I use this code I need to change:\n",
    "- `x` to any other type of variable or list I want to use with my loop\n",
    "- `<` to any other argument sign I wish to use to parameterize my loop\n",
    "- `print(x)` to return whatever I choose to return or print from this list"
   ]
  },
  {
   "cell_type": "code",
   "execution_count": null,
   "metadata": {},
   "outputs": [],
   "source": [
    "x = 1\n",
    "while x < 2048:\n",
    "    x = x * 2\n",
    "    print(x)"
   ]
  },
  {
   "cell_type": "markdown",
   "metadata": {},
   "source": [
    "# 3) Using If/Elif/Else statements\n",
    "#### Feb 25 2021\n",
    "The code below shows the use of if/elif/else statemnts working with a for loop to iterate through a list to sort items in the list.\n",
    "\n",
    "When I use this code I will need to change:\n",
    "- `for` loop can be changed to a while loop or a function\n",
    "- `if numbers...` to if (anyhting else)\n",
    "- `elif` to else if no other conditional statements"
   ]
  },
  {
   "cell_type": "code",
   "execution_count": null,
   "metadata": {},
   "outputs": [],
   "source": [
    "for numbers in range(10):\n",
    "    if numbers % 2 == 1:\n",
    "        print('Number is odd:',numbers)\n",
    "    elif numbers % 2 == 0:\n",
    "        print('Number is even:',numbers)"
   ]
  },
  {
   "cell_type": "markdown",
   "metadata": {},
   "source": [
    "# 4) Basic Functions\n",
    "#### Feb 25 2021\n",
    "Functions are a great way to consolidate code when opporations need to be repeated. Functions can be combined with loops to apply a function across a set of data values. The code below shows a simple function made to find x using the quadratic formula, returning both the positive and negative x values.\n",
    "\n",
    "When I use this code I will need to change:\n",
    "- `quadratic_formula` to a new function name\n",
    "- `a,b,c` to the new imputs for the new function\n",
    "- `x1/x2` to new variables that I am trying to find\n",
    "- `(-b + (b**2 - 4*a*c)**.5)/(2*a)` to a different equation or command\n",
    "- `return x1,x2` to return what the funciton is trying to solve for"
   ]
  },
  {
   "cell_type": "code",
   "execution_count": null,
   "metadata": {},
   "outputs": [],
   "source": [
    "def quadratic_formula(a,b,c):\n",
    "    x1 = (-b + (b**2 - 4*a*c)**.5)/(2*a)\n",
    "    x2 = (-b - (b**2 - 4*a*c)**.5)/(2*a)\n",
    "    return x1,x2\n",
    "#or\n",
    "\n",
    "def quadratic_formula_simplified(a,b,c):\n",
    "    return (-b + (b**2 - 4*a*c)**.5)/(2*a) , (-b - (b**2 - 4*a*c)**.5)/(2*a)\n",
    "\n",
    "#Here, both of these functions do the exact same thing"
   ]
  },
  {
   "cell_type": "markdown",
   "metadata": {
    "id": "xyVBy5YHAgwh"
   },
   "source": [
    "# 5) Reading in Data Using Pandas\n",
    "#### Feb,25 2021\n",
    "\n",
    "The code below reads in a .csv file using Pandas's `read_csv` function. This should really only be used for CSV files or Excel files (using `read_excel`). Use Numpy's `fromfile` to read in binary (.bin) or Yaff (.yaff) files.\n",
    "\n",
    "When I use this code, I need to change:\n",
    "\n",
    "- `data` to be a more descriptive variable name.\n",
    "- `dataset.csv` to the name of the data file.\n",
    "- `delimeter` if the delimeter isn't a comma (other delimeters include `;`).\n",
    "- `skiprows` if there are rows at the top of the file I want to skip.\n",
    "- `encoding` if the encoding is something other than `utf-8` (other encodings include `utf-16be`)."
   ]
  },
  {
   "cell_type": "code",
   "execution_count": null,
   "metadata": {
    "id": "5BH6qNBPAeR-"
   },
   "outputs": [],
   "source": [
    "import pandas as pd\n",
    "\n",
    "data = pd.read_csv(\"dataset.csv\",delimiter=',',skiprows=0,encoding='utf-8')"
   ]
  },
  {
   "cell_type": "markdown",
   "metadata": {
    "id": "C4XfkOK-92lb"
   },
   "source": [
    "# 6) Reading in Data Using Numpy\n",
    "#### Feb 25 2021\n",
    "\n",
    "The code below reads in a .bin file using Numpy's `fromfile` function. This works for all kinds of file types, including binary (.bin) and yaff (.yaff). \n",
    "\n",
    "When I use this code, I need to change:\n",
    "\n",
    "- `data` to be a more descriptive variable name.\n",
    "- `dataset.bin` to the name of the data file.\n",
    "- `dtype` to be whatever the data type that this file uses (other commonly used types are `float32`). "
   ]
  },
  {
   "cell_type": "code",
   "execution_count": null,
   "metadata": {
    "id": "KY37qcz196LA"
   },
   "outputs": [],
   "source": [
    "import numpy as np\n",
    "\n",
    "data = np.fromfile('dataset.bin', dtype='int32') "
   ]
  },
  {
   "cell_type": "markdown",
   "metadata": {
    "id": "47hYFsua7zTf"
   },
   "source": [
    "# 7) Making a Plot\n",
    "#### Feb 25 2021\n",
    "\n",
    "\n",
    "The code below creates a plot showing `y_data` versus `x_data`. (`y_data` on the vertical axis and `x_data` on horizontal axis)\n",
    "\n",
    "When I use this code, I need to change:\n",
    "\n",
    "- `x_data` to whatever my `x` variable is.\n",
    "- `y_data` to whatever my `y` variable is.\n",
    "- `label` to whatever the label fo this dataset is.\n",
    "- `xlabel` to whatever the name of my `x` variable is.\n",
    "- `ylabel` to whatever the name of my `y` variable is.\n",
    "- `title` to whatever the title of this figure should be."
   ]
  },
  {
   "cell_type": "code",
   "execution_count": null,
   "metadata": {
    "id": "7IsiKikf7vHB"
   },
   "outputs": [],
   "source": [
    "import matplotlib.pyplot as plt\n",
    "%matplotlib inline\n",
    "\n",
    "plt.plot(x_data,y_data,label=\"X Data\")\n",
    "plt.xlabel(\"X Data\")\n",
    "plt.ylabel(\"Y Data\")\n",
    "plt.title(\"Y Vs. X Dataset\")\n",
    "plt.grid()"
   ]
  },
  {
   "cell_type": "markdown",
   "metadata": {},
   "source": [
    "# 8) Changing Plot Display w/ Seaborn\n",
    "#### Mar 31 2021\n",
    "\n",
    "### Seaborn is a python library that has commands that help modify matplotlib plots.\n",
    "\n",
    "The commands below shows how a plot's display can be altered using seaborn.\n",
    "\n",
    "Seaborn comes with 5 preset background choices: `darkgrid`, `whitegrid`, `dark`, `white`, and `ticks`\n",
    "\n",
    "...And 4 preset context sizes: `notebook`, `paper`, `talk`, and `poster`\n",
    "\n",
    "When I use this code, I can input the presets above into____ to do____:\n",
    "\n",
    "- `set_theme( )` sets the theme\n",
    "- `set_style( )` sets the stle for the plot\n",
    "- `axes_style( )` sets the style for the axes\n",
    "- `plotting_context( )` sets size of plot\n",
    "- `set_context( )` sets size of plot with more options for text etc.\n",
    "- `despine( )` gets ride of outter axes lines (L shape instead of box shape)\n",
    "- `set_palette( )` sets colors to one theme\n",
    "- `color_palette( )` browse different colors palettes and gradients"
   ]
  },
  {
   "cell_type": "code",
   "execution_count": null,
   "metadata": {},
   "outputs": [],
   "source": [
    "import seaborn as sns"
   ]
  },
  {
   "cell_type": "markdown",
   "metadata": {},
   "source": [
    "# 9) Numpy Polyfit/Poly1d Plotting and Predictions\n",
    "#### Mar 31 2021\n",
    "\n",
    "### Numpy's polyfit/poly1d can be used together to create a line of best fit for some polynomial with degree `d`. The Polyfit command creates parameters using your x and y data. The Poly1d will then take in those parameters and create a function that intakes `x`.\n",
    "\n",
    "The code below shows how to take some `data` and use polyfit and poly1d to plot a best fit polynomial for the data.\n",
    "\n",
    "After that, it shows how to use that information to predict future values.\n",
    "\n",
    "When I use this code I will change:\n",
    "\n",
    "- `x` to list of x values\n",
    "- `y` to list of y values\n",
    "- `degree_of_poly` to desired degree fit\n",
    "- `new_x` to desired length of predictions\n",
    "- `some_x_value` to a single x value to get the correspondiong y value prediction"
   ]
  },
  {
   "cell_type": "code",
   "execution_count": null,
   "metadata": {},
   "outputs": [],
   "source": [
    "import numpy as np\n",
    "import matplotlib.pyplot as plt\n",
    "%matplotlib inline\n",
    "\n",
    "x = []\n",
    "y = []\n",
    "\n",
    "parameters = np.polyfit(x,y,(degree_of_poly))\n",
    "function = np.poly1d(parameters)\n",
    "expected_y_values = function(x)\n",
    "\n",
    "plt.scatter(x,y,color='b')\n",
    "plt.plot(x,expected_y_values,color='r')\n",
    "\n",
    "new_x = []\n",
    "predicting_y = function(new_x)\n",
    "\n",
    "predicted_y = function(some_x_value)"
   ]
  },
  {
   "cell_type": "markdown",
   "metadata": {},
   "source": [
    "# 10) SciPy Curve_fit Plotting and Predictions\n",
    "#### Mar 31 2021\n",
    "\n",
    "### SciPy's curve_fit takes in data to create parameters that can be given to a function you create to show a smooth line of expected values.\n",
    "\n",
    "The code below shows how to take some `data` and use SciPy's curve_fit to create a line of best fit for the data.\n",
    "\n",
    "After that, it shows how to use that information to predict future values.\n",
    "\n",
    "When I use this code I will change:\n",
    "\n",
    "- `function code` to better fit my data\n",
    "- `A,B,C,...` to however many parameters mmy function will need\n",
    "- `x` to list of x values\n",
    "- `y` to list of y values\n",
    "- `new_x` to desired length of predictions\n",
    "- `some_x_value` to a single x value to get corresponding y value prediciton"
   ]
  },
  {
   "cell_type": "code",
   "execution_count": null,
   "metadata": {},
   "outputs": [],
   "source": [
    "from scipy.optimize import curve_fit\n",
    "import matplotlib.pyplot as plt\n",
    "%matplotlib inline\n",
    "\n",
    "def function(x,A,B,C,...):\n",
    "    return x*A + x*B + x*C + ...\n",
    "\n",
    "x = []\n",
    "y = []\n",
    "\n",
    "popt, pcov = curve_fit(function,x,y)\n",
    "\n",
    "expected_A = popt[0]\n",
    "expected_B = popt[1]\n",
    "expected_C = popt[2]\n",
    "expected_(...)\n",
    "\n",
    "y_expected = function(x,expected_A,expected_B,expected_C,...)\n",
    "\n",
    "plt.scatter(x,y)\n",
    "plt.plot(x,y_expected)\n",
    "\n",
    "new_x = []\n",
    "y_predicting = function(new_x,expected_A,expected_B,expected_C,...)\n",
    "\n",
    "plt.plot(new_x,y_predicting)\n",
    "\n",
    "y_predicted = function(some_x_value,expected_A,expected_B,expected_C,...)"
   ]
  },
  {
   "cell_type": "markdown",
   "metadata": {},
   "source": [
    "# 11) SciPy Solve_ivp Plotting\n",
    "#### Mar 31 2021\n",
    "\n",
    "### SciPy's Solve_ivp is used to solve Initial Value Problems for a system of Ordinary Differential Equations. Solve_ivp takes in a function, x-interval, list of initial values, time increment list, and a list of the functions inputs, and outputs arrays of the functions outputs for each time increment.\n",
    "\n",
    "The code below shows how to take some `data` and use SciPy's solve_ivp to model ODE's.\n",
    "\n",
    "After that, it shows how to use that information to predict future values.\n",
    "\n",
    "When I use this code I will change:\n",
    "\n",
    "- `function` to refect the ODE system i am trying to solve\n",
    "- `A-D` for number of parameters my function has\n",
    "- `l,m,n` to the values I am trying to get out\n",
    "- `dLdt,dMdt,dNdt-equations` to the differential equations using the parameters\n",
    "- `some_time` to end length of time\n",
    "- `number_of_increments` to how many steps I want\n",
    "- `par1-par4` to the parameters that will be affecting my differential equations"
   ]
  },
  {
   "cell_type": "code",
   "execution_count": null,
   "metadata": {},
   "outputs": [],
   "source": [
    "from mpl_toolkits.mplot3d import Axes3D\n",
    "\n",
    "def function(t,current_values,A,B,C,D):\n",
    "    l = current_values[0]\n",
    "    m = current_values[1]\n",
    "    n = current_values[2]\n",
    "    \n",
    "    dLdt = equation1\n",
    "    dMdt = equation2\n",
    "    dNdt = equation3\n",
    "    \n",
    "    return dLdt,dMdt,dNdt\n",
    "\n",
    "current_values = [val_l,val_m,val_n]\n",
    "\n",
    "time = np.linspace(0,some_time,number_of_increments)\n",
    "\n",
    "A,B,C,D = par1,par2,par3,par4\n",
    "\n",
    "solved = solve_ivp(function, (0,some_time), current_values, t_eval = time, args=(A,B,C,D)) \n",
    "\n",
    "L = solved.y[0,:]\n",
    "M = solved.y[1,:]\n",
    "N = solved.y[2,:]\n",
    "\n",
    "\n",
    "plt.plot(time,L)\n",
    "plt.plot(time,M)\n",
    "plt.plot(time,N)"
   ]
  },
  {
   "cell_type": "markdown",
   "metadata": {},
   "source": [
    "# 12) Masking Data\n",
    "#### Mar 31 2021\n",
    "\n",
    "### Masking data is a great way to create a new list/array composed only of entries that meet a specific criteria.\n",
    "\n",
    "The code below shows a simplified version of what masks are capable of and how a mask is made from an array of `data`.\n",
    "\n",
    "New_data1 shows a simple mask.\n",
    "New_data2 shows the average of one of the columns for all entries that meet the criteria.\n",
    "\n",
    "When I use this code I will change:\n",
    "\n",
    "- `data-set` to the data set that is being manipulated"
   ]
  },
  {
   "cell_type": "code",
   "execution_count": null,
   "metadata": {},
   "outputs": [],
   "source": [
    "data = [[a0,b0,c0],\n",
    "        [a1,b1,c1],\n",
    "        [a2,b2,c2],\n",
    "        [a3,b3,c3],\n",
    "        [a4,b4,c4],\n",
    "        [a5,b5,c5],\n",
    "        [a6,b6,c6]]\n",
    "\n",
    "new_data1 = data[data[:,column_number] < some_value]\n",
    "\n",
    "new_data2 = data[data[:,some_column_number] >= another_value]\n",
    "total = 0\n",
    "for i in new_data2[:,index_value]:\n",
    "    total += i\n",
    "answer = total / len(new_data2)\n",
    "answer.round()"
   ]
  }
 ],
 "metadata": {
  "anaconda-cloud": {},
  "colab": {
   "collapsed_sections": [],
   "name": "Code_Portfolio_Example_For_Sharing.ipynb",
   "provenance": []
  },
  "kernelspec": {
   "display_name": "Python 3",
   "language": "python",
   "name": "python3"
  },
  "language_info": {
   "codemirror_mode": {
    "name": "ipython",
    "version": 3
   },
   "file_extension": ".py",
   "mimetype": "text/x-python",
   "name": "python",
   "nbconvert_exporter": "python",
   "pygments_lexer": "ipython3",
   "version": "3.8.8"
  }
 },
 "nbformat": 4,
 "nbformat_minor": 1
}
